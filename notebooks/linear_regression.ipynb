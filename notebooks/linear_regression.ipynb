{
 "cells": [
  {
   "cell_type": "markdown",
   "metadata": {},
   "source": [
    "# Comparing different movie rating systems"
   ]
  },
  {
   "cell_type": "code",
   "execution_count": 78,
   "metadata": {
    "collapsed": false
   },
   "outputs": [],
   "source": [
    "import pandas as pd\n",
    "import numpy as np\n",
    "import scipy.stats as sps\n",
    "import matplotlib.pyplot as plt\n",
    "%matplotlib inline"
   ]
  },
  {
   "cell_type": "code",
   "execution_count": 5,
   "metadata": {
    "collapsed": false
   },
   "outputs": [],
   "source": [
    "movies = pd.read_csv('fandango_score_comparison.csv')"
   ]
  },
  {
   "cell_type": "code",
   "execution_count": 6,
   "metadata": {
    "collapsed": false
   },
   "outputs": [
    {
     "data": {
      "text/html": [
       "<div style=\"max-height:1000px;max-width:1500px;overflow:auto;\">\n",
       "<table border=\"1\" class=\"dataframe\">\n",
       "  <thead>\n",
       "    <tr style=\"text-align: right;\">\n",
       "      <th></th>\n",
       "      <th>RottenTomatoes</th>\n",
       "      <th>RottenTomatoes_User</th>\n",
       "      <th>Metacritic</th>\n",
       "      <th>Metacritic_User</th>\n",
       "      <th>IMDB</th>\n",
       "      <th>Fandango_Stars</th>\n",
       "      <th>Fandango_Ratingvalue</th>\n",
       "      <th>RT_norm</th>\n",
       "      <th>RT_user_norm</th>\n",
       "      <th>Metacritic_norm</th>\n",
       "      <th>...</th>\n",
       "      <th>IMDB_norm</th>\n",
       "      <th>RT_norm_round</th>\n",
       "      <th>RT_user_norm_round</th>\n",
       "      <th>Metacritic_norm_round</th>\n",
       "      <th>Metacritic_user_norm_round</th>\n",
       "      <th>IMDB_norm_round</th>\n",
       "      <th>Metacritic_user_vote_count</th>\n",
       "      <th>IMDB_user_vote_count</th>\n",
       "      <th>Fandango_votes</th>\n",
       "      <th>Fandango_Difference</th>\n",
       "    </tr>\n",
       "  </thead>\n",
       "  <tbody>\n",
       "    <tr>\n",
       "      <th>count</th>\n",
       "      <td> 146.000000</td>\n",
       "      <td> 146.000000</td>\n",
       "      <td> 146.000000</td>\n",
       "      <td> 146.000000</td>\n",
       "      <td> 146.000000</td>\n",
       "      <td> 146.000000</td>\n",
       "      <td> 146.000000</td>\n",
       "      <td> 146.000000</td>\n",
       "      <td> 146.000000</td>\n",
       "      <td> 146.000000</td>\n",
       "      <td>...</td>\n",
       "      <td> 146.000000</td>\n",
       "      <td> 146.000000</td>\n",
       "      <td> 146.000000</td>\n",
       "      <td> 146.000000</td>\n",
       "      <td> 146.000000</td>\n",
       "      <td> 146.000000</td>\n",
       "      <td>  146.000000</td>\n",
       "      <td>    146.000000</td>\n",
       "      <td>   146.000000</td>\n",
       "      <td> 146.000000</td>\n",
       "    </tr>\n",
       "    <tr>\n",
       "      <th>mean</th>\n",
       "      <td>  60.849315</td>\n",
       "      <td>  63.876712</td>\n",
       "      <td>  58.808219</td>\n",
       "      <td>   6.519178</td>\n",
       "      <td>   6.736986</td>\n",
       "      <td>   4.089041</td>\n",
       "      <td>   3.845205</td>\n",
       "      <td>   3.042466</td>\n",
       "      <td>   3.193836</td>\n",
       "      <td>   2.940411</td>\n",
       "      <td>...</td>\n",
       "      <td>   3.368493</td>\n",
       "      <td>   3.065068</td>\n",
       "      <td>   3.226027</td>\n",
       "      <td>   2.972603</td>\n",
       "      <td>   3.270548</td>\n",
       "      <td>   3.380137</td>\n",
       "      <td>  185.705479</td>\n",
       "      <td>  42846.205479</td>\n",
       "      <td>  3848.787671</td>\n",
       "      <td>   0.243836</td>\n",
       "    </tr>\n",
       "    <tr>\n",
       "      <th>std</th>\n",
       "      <td>  30.168799</td>\n",
       "      <td>  20.024430</td>\n",
       "      <td>  19.517389</td>\n",
       "      <td>   1.510712</td>\n",
       "      <td>   0.958736</td>\n",
       "      <td>   0.540386</td>\n",
       "      <td>   0.502831</td>\n",
       "      <td>   1.508440</td>\n",
       "      <td>   1.001222</td>\n",
       "      <td>   0.975869</td>\n",
       "      <td>...</td>\n",
       "      <td>   0.479368</td>\n",
       "      <td>   1.514600</td>\n",
       "      <td>   1.007014</td>\n",
       "      <td>   0.990961</td>\n",
       "      <td>   0.788116</td>\n",
       "      <td>   0.502767</td>\n",
       "      <td>  316.606515</td>\n",
       "      <td>  67406.509171</td>\n",
       "      <td>  6357.778617</td>\n",
       "      <td>   0.152665</td>\n",
       "    </tr>\n",
       "    <tr>\n",
       "      <th>min</th>\n",
       "      <td>   5.000000</td>\n",
       "      <td>  20.000000</td>\n",
       "      <td>  13.000000</td>\n",
       "      <td>   2.400000</td>\n",
       "      <td>   4.000000</td>\n",
       "      <td>   3.000000</td>\n",
       "      <td>   2.700000</td>\n",
       "      <td>   0.250000</td>\n",
       "      <td>   1.000000</td>\n",
       "      <td>   0.650000</td>\n",
       "      <td>...</td>\n",
       "      <td>   2.000000</td>\n",
       "      <td>   0.500000</td>\n",
       "      <td>   1.000000</td>\n",
       "      <td>   0.500000</td>\n",
       "      <td>   1.000000</td>\n",
       "      <td>   2.000000</td>\n",
       "      <td>    4.000000</td>\n",
       "      <td>    243.000000</td>\n",
       "      <td>    35.000000</td>\n",
       "      <td>   0.000000</td>\n",
       "    </tr>\n",
       "    <tr>\n",
       "      <th>25%</th>\n",
       "      <td>  31.250000</td>\n",
       "      <td>  50.000000</td>\n",
       "      <td>  43.500000</td>\n",
       "      <td>   5.700000</td>\n",
       "      <td>   6.300000</td>\n",
       "      <td>   3.500000</td>\n",
       "      <td>   3.500000</td>\n",
       "      <td>   1.562500</td>\n",
       "      <td>   2.500000</td>\n",
       "      <td>   2.175000</td>\n",
       "      <td>...</td>\n",
       "      <td>   3.150000</td>\n",
       "      <td>   1.500000</td>\n",
       "      <td>   2.500000</td>\n",
       "      <td>   2.125000</td>\n",
       "      <td>   3.000000</td>\n",
       "      <td>   3.000000</td>\n",
       "      <td>   33.250000</td>\n",
       "      <td>   5627.000000</td>\n",
       "      <td>   222.250000</td>\n",
       "      <td>   0.100000</td>\n",
       "    </tr>\n",
       "    <tr>\n",
       "      <th>50%</th>\n",
       "      <td>  63.500000</td>\n",
       "      <td>  66.500000</td>\n",
       "      <td>  59.000000</td>\n",
       "      <td>   6.850000</td>\n",
       "      <td>   6.900000</td>\n",
       "      <td>   4.000000</td>\n",
       "      <td>   3.900000</td>\n",
       "      <td>   3.175000</td>\n",
       "      <td>   3.325000</td>\n",
       "      <td>   2.950000</td>\n",
       "      <td>...</td>\n",
       "      <td>   3.450000</td>\n",
       "      <td>   3.000000</td>\n",
       "      <td>   3.500000</td>\n",
       "      <td>   3.000000</td>\n",
       "      <td>   3.500000</td>\n",
       "      <td>   3.500000</td>\n",
       "      <td>   72.500000</td>\n",
       "      <td>  19103.000000</td>\n",
       "      <td>  1446.000000</td>\n",
       "      <td>   0.200000</td>\n",
       "    </tr>\n",
       "    <tr>\n",
       "      <th>75%</th>\n",
       "      <td>  89.000000</td>\n",
       "      <td>  81.000000</td>\n",
       "      <td>  75.000000</td>\n",
       "      <td>   7.500000</td>\n",
       "      <td>   7.400000</td>\n",
       "      <td>   4.500000</td>\n",
       "      <td>   4.200000</td>\n",
       "      <td>   4.450000</td>\n",
       "      <td>   4.050000</td>\n",
       "      <td>   3.750000</td>\n",
       "      <td>...</td>\n",
       "      <td>   3.700000</td>\n",
       "      <td>   4.500000</td>\n",
       "      <td>   4.000000</td>\n",
       "      <td>   4.000000</td>\n",
       "      <td>   4.000000</td>\n",
       "      <td>   3.500000</td>\n",
       "      <td>  168.500000</td>\n",
       "      <td>  45185.750000</td>\n",
       "      <td>  4439.500000</td>\n",
       "      <td>   0.400000</td>\n",
       "    </tr>\n",
       "    <tr>\n",
       "      <th>max</th>\n",
       "      <td> 100.000000</td>\n",
       "      <td>  94.000000</td>\n",
       "      <td>  94.000000</td>\n",
       "      <td>   9.600000</td>\n",
       "      <td>   8.600000</td>\n",
       "      <td>   5.000000</td>\n",
       "      <td>   4.800000</td>\n",
       "      <td>   5.000000</td>\n",
       "      <td>   4.700000</td>\n",
       "      <td>   4.700000</td>\n",
       "      <td>...</td>\n",
       "      <td>   4.300000</td>\n",
       "      <td>   5.000000</td>\n",
       "      <td>   4.500000</td>\n",
       "      <td>   4.500000</td>\n",
       "      <td>   5.000000</td>\n",
       "      <td>   4.500000</td>\n",
       "      <td> 2375.000000</td>\n",
       "      <td> 334164.000000</td>\n",
       "      <td> 34846.000000</td>\n",
       "      <td>   0.500000</td>\n",
       "    </tr>\n",
       "  </tbody>\n",
       "</table>\n",
       "<p>8 rows × 21 columns</p>\n",
       "</div>"
      ],
      "text/plain": [
       "       RottenTomatoes  RottenTomatoes_User  Metacritic  Metacritic_User  \\\n",
       "count      146.000000           146.000000  146.000000       146.000000   \n",
       "mean        60.849315            63.876712   58.808219         6.519178   \n",
       "std         30.168799            20.024430   19.517389         1.510712   \n",
       "min          5.000000            20.000000   13.000000         2.400000   \n",
       "25%         31.250000            50.000000   43.500000         5.700000   \n",
       "50%         63.500000            66.500000   59.000000         6.850000   \n",
       "75%         89.000000            81.000000   75.000000         7.500000   \n",
       "max        100.000000            94.000000   94.000000         9.600000   \n",
       "\n",
       "             IMDB  Fandango_Stars  Fandango_Ratingvalue     RT_norm  \\\n",
       "count  146.000000      146.000000            146.000000  146.000000   \n",
       "mean     6.736986        4.089041              3.845205    3.042466   \n",
       "std      0.958736        0.540386              0.502831    1.508440   \n",
       "min      4.000000        3.000000              2.700000    0.250000   \n",
       "25%      6.300000        3.500000              3.500000    1.562500   \n",
       "50%      6.900000        4.000000              3.900000    3.175000   \n",
       "75%      7.400000        4.500000              4.200000    4.450000   \n",
       "max      8.600000        5.000000              4.800000    5.000000   \n",
       "\n",
       "       RT_user_norm  Metacritic_norm         ...            IMDB_norm  \\\n",
       "count    146.000000       146.000000         ...           146.000000   \n",
       "mean       3.193836         2.940411         ...             3.368493   \n",
       "std        1.001222         0.975869         ...             0.479368   \n",
       "min        1.000000         0.650000         ...             2.000000   \n",
       "25%        2.500000         2.175000         ...             3.150000   \n",
       "50%        3.325000         2.950000         ...             3.450000   \n",
       "75%        4.050000         3.750000         ...             3.700000   \n",
       "max        4.700000         4.700000         ...             4.300000   \n",
       "\n",
       "       RT_norm_round  RT_user_norm_round  Metacritic_norm_round  \\\n",
       "count     146.000000          146.000000             146.000000   \n",
       "mean        3.065068            3.226027               2.972603   \n",
       "std         1.514600            1.007014               0.990961   \n",
       "min         0.500000            1.000000               0.500000   \n",
       "25%         1.500000            2.500000               2.125000   \n",
       "50%         3.000000            3.500000               3.000000   \n",
       "75%         4.500000            4.000000               4.000000   \n",
       "max         5.000000            4.500000               4.500000   \n",
       "\n",
       "       Metacritic_user_norm_round  IMDB_norm_round  \\\n",
       "count                  146.000000       146.000000   \n",
       "mean                     3.270548         3.380137   \n",
       "std                      0.788116         0.502767   \n",
       "min                      1.000000         2.000000   \n",
       "25%                      3.000000         3.000000   \n",
       "50%                      3.500000         3.500000   \n",
       "75%                      4.000000         3.500000   \n",
       "max                      5.000000         4.500000   \n",
       "\n",
       "       Metacritic_user_vote_count  IMDB_user_vote_count  Fandango_votes  \\\n",
       "count                  146.000000            146.000000      146.000000   \n",
       "mean                   185.705479          42846.205479     3848.787671   \n",
       "std                    316.606515          67406.509171     6357.778617   \n",
       "min                      4.000000            243.000000       35.000000   \n",
       "25%                     33.250000           5627.000000      222.250000   \n",
       "50%                     72.500000          19103.000000     1446.000000   \n",
       "75%                    168.500000          45185.750000     4439.500000   \n",
       "max                   2375.000000         334164.000000    34846.000000   \n",
       "\n",
       "       Fandango_Difference  \n",
       "count           146.000000  \n",
       "mean              0.243836  \n",
       "std               0.152665  \n",
       "min               0.000000  \n",
       "25%               0.100000  \n",
       "50%               0.200000  \n",
       "75%               0.400000  \n",
       "max               0.500000  \n",
       "\n",
       "[8 rows x 21 columns]"
      ]
     },
     "execution_count": 6,
     "metadata": {},
     "output_type": "execute_result"
    }
   ],
   "source": [
    "movies.describe()"
   ]
  },
  {
   "cell_type": "code",
   "execution_count": 57,
   "metadata": {
    "collapsed": false
   },
   "outputs": [
    {
     "name": "stdout",
     "output_type": "stream",
     "text": [
      "<class 'pandas.core.frame.DataFrame'>\n",
      "Int64Index: 146 entries, 0 to 145\n",
      "Data columns (total 22 columns):\n",
      "FILM                          146 non-null object\n",
      "RottenTomatoes                146 non-null int64\n",
      "RottenTomatoes_User           146 non-null int64\n",
      "Metacritic                    146 non-null int64\n",
      "Metacritic_User               146 non-null float64\n",
      "IMDB                          146 non-null float64\n",
      "Fandango_Stars                146 non-null float64\n",
      "Fandango_Ratingvalue          146 non-null float64\n",
      "RT_norm                       146 non-null float64\n",
      "RT_user_norm                  146 non-null float64\n",
      "Metacritic_norm               146 non-null float64\n",
      "Metacritic_user_nom           146 non-null float64\n",
      "IMDB_norm                     146 non-null float64\n",
      "RT_norm_round                 146 non-null float64\n",
      "RT_user_norm_round            146 non-null float64\n",
      "Metacritic_norm_round         146 non-null float64\n",
      "Metacritic_user_norm_round    146 non-null float64\n",
      "IMDB_norm_round               146 non-null float64\n",
      "Metacritic_user_vote_count    146 non-null int64\n",
      "IMDB_user_vote_count          146 non-null int64\n",
      "Fandango_votes                146 non-null int64\n",
      "Fandango_Difference           146 non-null float64\n",
      "dtypes: float64(15), int64(6), object(1)\n",
      "memory usage: 26.2+ KB\n"
     ]
    }
   ],
   "source": [
    "movies.info()"
   ]
  },
  {
   "cell_type": "code",
   "execution_count": 8,
   "metadata": {
    "collapsed": false,
    "scrolled": true
   },
   "outputs": [
    {
     "data": {
      "text/html": [
       "<div style=\"max-height:1000px;max-width:1500px;overflow:auto;\">\n",
       "<table border=\"1\" class=\"dataframe\">\n",
       "  <thead>\n",
       "    <tr style=\"text-align: right;\">\n",
       "      <th></th>\n",
       "      <th>FILM</th>\n",
       "      <th>RottenTomatoes</th>\n",
       "      <th>RottenTomatoes_User</th>\n",
       "      <th>Metacritic</th>\n",
       "      <th>Metacritic_User</th>\n",
       "      <th>IMDB</th>\n",
       "      <th>Fandango_Stars</th>\n",
       "      <th>Fandango_Ratingvalue</th>\n",
       "      <th>RT_norm</th>\n",
       "      <th>RT_user_norm</th>\n",
       "      <th>...</th>\n",
       "      <th>IMDB_norm</th>\n",
       "      <th>RT_norm_round</th>\n",
       "      <th>RT_user_norm_round</th>\n",
       "      <th>Metacritic_norm_round</th>\n",
       "      <th>Metacritic_user_norm_round</th>\n",
       "      <th>IMDB_norm_round</th>\n",
       "      <th>Metacritic_user_vote_count</th>\n",
       "      <th>IMDB_user_vote_count</th>\n",
       "      <th>Fandango_votes</th>\n",
       "      <th>Fandango_Difference</th>\n",
       "    </tr>\n",
       "  </thead>\n",
       "  <tbody>\n",
       "    <tr>\n",
       "      <th>0</th>\n",
       "      <td> Avengers: Age of Ultron (2015)</td>\n",
       "      <td> 74</td>\n",
       "      <td> 86</td>\n",
       "      <td> 66</td>\n",
       "      <td> 7.1</td>\n",
       "      <td> 7.8</td>\n",
       "      <td> 5.0</td>\n",
       "      <td> 4.5</td>\n",
       "      <td> 3.70</td>\n",
       "      <td> 4.3</td>\n",
       "      <td>...</td>\n",
       "      <td> 3.90</td>\n",
       "      <td> 3.5</td>\n",
       "      <td> 4.5</td>\n",
       "      <td> 3.5</td>\n",
       "      <td> 3.5</td>\n",
       "      <td> 4.0</td>\n",
       "      <td> 1330</td>\n",
       "      <td> 271107</td>\n",
       "      <td> 14846</td>\n",
       "      <td> 0.5</td>\n",
       "    </tr>\n",
       "    <tr>\n",
       "      <th>1</th>\n",
       "      <td>              Cinderella (2015)</td>\n",
       "      <td> 85</td>\n",
       "      <td> 80</td>\n",
       "      <td> 67</td>\n",
       "      <td> 7.5</td>\n",
       "      <td> 7.1</td>\n",
       "      <td> 5.0</td>\n",
       "      <td> 4.5</td>\n",
       "      <td> 4.25</td>\n",
       "      <td> 4.0</td>\n",
       "      <td>...</td>\n",
       "      <td> 3.55</td>\n",
       "      <td> 4.5</td>\n",
       "      <td> 4.0</td>\n",
       "      <td> 3.5</td>\n",
       "      <td> 4.0</td>\n",
       "      <td> 3.5</td>\n",
       "      <td>  249</td>\n",
       "      <td>  65709</td>\n",
       "      <td> 12640</td>\n",
       "      <td> 0.5</td>\n",
       "    </tr>\n",
       "    <tr>\n",
       "      <th>2</th>\n",
       "      <td>                 Ant-Man (2015)</td>\n",
       "      <td> 80</td>\n",
       "      <td> 90</td>\n",
       "      <td> 64</td>\n",
       "      <td> 8.1</td>\n",
       "      <td> 7.8</td>\n",
       "      <td> 5.0</td>\n",
       "      <td> 4.5</td>\n",
       "      <td> 4.00</td>\n",
       "      <td> 4.5</td>\n",
       "      <td>...</td>\n",
       "      <td> 3.90</td>\n",
       "      <td> 4.0</td>\n",
       "      <td> 4.5</td>\n",
       "      <td> 3.0</td>\n",
       "      <td> 4.0</td>\n",
       "      <td> 4.0</td>\n",
       "      <td>  627</td>\n",
       "      <td> 103660</td>\n",
       "      <td> 12055</td>\n",
       "      <td> 0.5</td>\n",
       "    </tr>\n",
       "    <tr>\n",
       "      <th>3</th>\n",
       "      <td>         Do You Believe? (2015)</td>\n",
       "      <td> 18</td>\n",
       "      <td> 84</td>\n",
       "      <td> 22</td>\n",
       "      <td> 4.7</td>\n",
       "      <td> 5.4</td>\n",
       "      <td> 5.0</td>\n",
       "      <td> 4.5</td>\n",
       "      <td> 0.90</td>\n",
       "      <td> 4.2</td>\n",
       "      <td>...</td>\n",
       "      <td> 2.70</td>\n",
       "      <td> 1.0</td>\n",
       "      <td> 4.0</td>\n",
       "      <td> 1.0</td>\n",
       "      <td> 2.5</td>\n",
       "      <td> 2.5</td>\n",
       "      <td>   31</td>\n",
       "      <td>   3136</td>\n",
       "      <td>  1793</td>\n",
       "      <td> 0.5</td>\n",
       "    </tr>\n",
       "    <tr>\n",
       "      <th>4</th>\n",
       "      <td>  Hot Tub Time Machine 2 (2015)</td>\n",
       "      <td> 14</td>\n",
       "      <td> 28</td>\n",
       "      <td> 29</td>\n",
       "      <td> 3.4</td>\n",
       "      <td> 5.1</td>\n",
       "      <td> 3.5</td>\n",
       "      <td> 3.0</td>\n",
       "      <td> 0.70</td>\n",
       "      <td> 1.4</td>\n",
       "      <td>...</td>\n",
       "      <td> 2.55</td>\n",
       "      <td> 0.5</td>\n",
       "      <td> 1.5</td>\n",
       "      <td> 1.5</td>\n",
       "      <td> 1.5</td>\n",
       "      <td> 2.5</td>\n",
       "      <td>   88</td>\n",
       "      <td>  19560</td>\n",
       "      <td>  1021</td>\n",
       "      <td> 0.5</td>\n",
       "    </tr>\n",
       "  </tbody>\n",
       "</table>\n",
       "<p>5 rows × 22 columns</p>\n",
       "</div>"
      ],
      "text/plain": [
       "                             FILM  RottenTomatoes  RottenTomatoes_User  \\\n",
       "0  Avengers: Age of Ultron (2015)              74                   86   \n",
       "1               Cinderella (2015)              85                   80   \n",
       "2                  Ant-Man (2015)              80                   90   \n",
       "3          Do You Believe? (2015)              18                   84   \n",
       "4   Hot Tub Time Machine 2 (2015)              14                   28   \n",
       "\n",
       "   Metacritic  Metacritic_User  IMDB  Fandango_Stars  Fandango_Ratingvalue  \\\n",
       "0          66              7.1   7.8             5.0                   4.5   \n",
       "1          67              7.5   7.1             5.0                   4.5   \n",
       "2          64              8.1   7.8             5.0                   4.5   \n",
       "3          22              4.7   5.4             5.0                   4.5   \n",
       "4          29              3.4   5.1             3.5                   3.0   \n",
       "\n",
       "   RT_norm  RT_user_norm         ...           IMDB_norm  RT_norm_round  \\\n",
       "0     3.70           4.3         ...                3.90            3.5   \n",
       "1     4.25           4.0         ...                3.55            4.5   \n",
       "2     4.00           4.5         ...                3.90            4.0   \n",
       "3     0.90           4.2         ...                2.70            1.0   \n",
       "4     0.70           1.4         ...                2.55            0.5   \n",
       "\n",
       "   RT_user_norm_round  Metacritic_norm_round  Metacritic_user_norm_round  \\\n",
       "0                 4.5                    3.5                         3.5   \n",
       "1                 4.0                    3.5                         4.0   \n",
       "2                 4.5                    3.0                         4.0   \n",
       "3                 4.0                    1.0                         2.5   \n",
       "4                 1.5                    1.5                         1.5   \n",
       "\n",
       "   IMDB_norm_round  Metacritic_user_vote_count  IMDB_user_vote_count  \\\n",
       "0              4.0                        1330                271107   \n",
       "1              3.5                         249                 65709   \n",
       "2              4.0                         627                103660   \n",
       "3              2.5                          31                  3136   \n",
       "4              2.5                          88                 19560   \n",
       "\n",
       "   Fandango_votes  Fandango_Difference  \n",
       "0           14846                  0.5  \n",
       "1           12640                  0.5  \n",
       "2           12055                  0.5  \n",
       "3            1793                  0.5  \n",
       "4            1021                  0.5  \n",
       "\n",
       "[5 rows x 22 columns]"
      ]
     },
     "execution_count": 8,
     "metadata": {},
     "output_type": "execute_result"
    }
   ],
   "source": [
    "# Check the movie data structure\n",
    "movies.head()"
   ]
  },
  {
   "cell_type": "markdown",
   "metadata": {},
   "source": [
    "## Fandango stars histogram"
   ]
  },
  {
   "cell_type": "code",
   "execution_count": 9,
   "metadata": {
    "collapsed": false
   },
   "outputs": [
    {
     "data": {
      "text/plain": [
       "<matplotlib.axes._subplots.AxesSubplot at 0x7fd2a1952d30>"
      ]
     },
     "execution_count": 9,
     "metadata": {},
     "output_type": "execute_result"
    },
    {
     "data": {
      "image/png": "[encoded data removed]",
      "text/plain": [
       "<matplotlib.figure.Figure at 0x7fd284eee898>"
      ]
     },
     "metadata": {},
     "output_type": "display_data"
    }
   ],
   "source": [
    "movies[\"Fandango_Stars\"].hist(bins=[1,2,3,4,5])"
   ]
  },
  {
   "cell_type": "markdown",
   "metadata": {},
   "source": [
    "## Metacritic (normed and rounded to the closest 0.5) histogram"
   ]
  },
  {
   "cell_type": "code",
   "execution_count": 10,
   "metadata": {
    "collapsed": false,
    "scrolled": true
   },
   "outputs": [
    {
     "data": {
      "text/plain": [
       "<matplotlib.axes._subplots.AxesSubplot at 0x7fd284e58a90>"
      ]
     },
     "execution_count": 10,
     "metadata": {},
     "output_type": "execute_result"
    },
    {
     "data": {
      "image/png": "[encoded data removed]",
      "text/plain": [
       "<matplotlib.figure.Figure at 0x7fd284e1ce48>"
      ]
     },
     "metadata": {},
     "output_type": "display_data"
    }
   ],
   "source": [
    "movies[\"Metacritic_norm_round\"].hist(bins=[1,2,3,4,5])"
   ]
  },
  {
   "cell_type": "markdown",
   "metadata": {},
   "source": [
    "## Some comparison metrics for Metacritic and Fandango ratings"
   ]
  },
  {
   "cell_type": "code",
   "execution_count": 11,
   "metadata": {
    "collapsed": false,
    "scrolled": false
   },
   "outputs": [
    {
     "data": {
      "text/html": [
       "<div style=\"max-height:1000px;max-width:1500px;overflow:auto;\">\n",
       "<table border=\"1\" class=\"dataframe\">\n",
       "  <thead>\n",
       "    <tr style=\"text-align: right;\">\n",
       "      <th></th>\n",
       "      <th>Metacritic_norm_round</th>\n",
       "      <th>Fandango_Stars</th>\n",
       "    </tr>\n",
       "  </thead>\n",
       "  <tbody>\n",
       "    <tr>\n",
       "      <th>count</th>\n",
       "      <td> 146.000000</td>\n",
       "      <td> 146.000000</td>\n",
       "    </tr>\n",
       "    <tr>\n",
       "      <th>mean</th>\n",
       "      <td>   2.972603</td>\n",
       "      <td>   4.089041</td>\n",
       "    </tr>\n",
       "    <tr>\n",
       "      <th>std</th>\n",
       "      <td>   0.990961</td>\n",
       "      <td>   0.540386</td>\n",
       "    </tr>\n",
       "    <tr>\n",
       "      <th>min</th>\n",
       "      <td>   0.500000</td>\n",
       "      <td>   3.000000</td>\n",
       "    </tr>\n",
       "    <tr>\n",
       "      <th>25%</th>\n",
       "      <td>   2.125000</td>\n",
       "      <td>   3.500000</td>\n",
       "    </tr>\n",
       "    <tr>\n",
       "      <th>50%</th>\n",
       "      <td>   3.000000</td>\n",
       "      <td>   4.000000</td>\n",
       "    </tr>\n",
       "    <tr>\n",
       "      <th>75%</th>\n",
       "      <td>   4.000000</td>\n",
       "      <td>   4.500000</td>\n",
       "    </tr>\n",
       "    <tr>\n",
       "      <th>max</th>\n",
       "      <td>   4.500000</td>\n",
       "      <td>   5.000000</td>\n",
       "    </tr>\n",
       "  </tbody>\n",
       "</table>\n",
       "</div>"
      ],
      "text/plain": [
       "       Metacritic_norm_round  Fandango_Stars\n",
       "count             146.000000      146.000000\n",
       "mean                2.972603        4.089041\n",
       "std                 0.990961        0.540386\n",
       "min                 0.500000        3.000000\n",
       "25%                 2.125000        3.500000\n",
       "50%                 3.000000        4.000000\n",
       "75%                 4.000000        4.500000\n",
       "max                 4.500000        5.000000"
      ]
     },
     "execution_count": 11,
     "metadata": {},
     "output_type": "execute_result"
    }
   ],
   "source": [
    "# Mean, standard deviation, median and other quantiles \n",
    "movies[[\"Metacritic_norm_round\",\"Fandango_Stars\"]].describe()"
   ]
  },
  {
   "cell_type": "markdown",
   "metadata": {},
   "source": [
    "### Major differences between Fandango and Metacritic ratings\n",
    "\n",
    "* Fandango lowest rating is 3.0 whereas Metacritic could go as low as 0.5 \n",
    "* The rating for Fandango are rounded to the closest 0.5 point above\n",
    "* The mean for Fandango is higher than its median which could mean there are more large ratings \n",
    "* The opposite is true for Metacritic ratings\n",
    "* There is less variability in the Fandango ratings (0.54 std) than the Metacritic ones (0.99 std) \n",
    "\n",
    "=> The Fandango rating system seems **biased**, **flawed** and thus of **lesser value** than the Metacritic one."
   ]
  },
  {
   "cell_type": "markdown",
   "metadata": {},
   "source": [
    "## Scatter plot between Fandango and Metacritic ratings"
   ]
  },
  {
   "cell_type": "code",
   "execution_count": 14,
   "metadata": {
    "collapsed": false,
    "scrolled": true
   },
   "outputs": [
    {
     "data": {
      "text/plain": [
       "<matplotlib.axes._subplots.AxesSubplot at 0x7fd284e06630>"
      ]
     },
     "execution_count": 14,
     "metadata": {},
     "output_type": "execute_result"
    },
    {
     "data": {
      "image/png": "[encoded data removed]",
      "text/plain": [
       "<matplotlib.figure.Figure at 0x7fd284e0ec50>"
      ]
     },
     "metadata": {},
     "output_type": "display_data"
    }
   ],
   "source": [
    "movies.plot(x='Fandango_Stars', \n",
    "            y='Metacritic_norm_round',\n",
    "            kind='scatter')"
   ]
  },
  {
   "cell_type": "markdown",
   "metadata": {},
   "source": [
    "## Finding the 5 movies with the biggest rating differences (in absolute values)"
   ]
  },
  {
   "cell_type": "code",
   "execution_count": 28,
   "metadata": {
    "collapsed": false
   },
   "outputs": [],
   "source": [
    "def abs_diff(row):\n",
    "    return np.abs(row[0] - row[1])\n",
    "fm_diff = movies[[\"Metacritic_norm_round\",\"Fandango_Stars\"]].apply(\n",
    "    lambda row: abs_diff(row), axis=1)"
   ]
  },
  {
   "cell_type": "code",
   "execution_count": 30,
   "metadata": {
    "collapsed": false
   },
   "outputs": [],
   "source": [
    "fm_diff.sort(ascending=False)"
   ]
  },
  {
   "cell_type": "code",
   "execution_count": 45,
   "metadata": {
    "collapsed": false
   },
   "outputs": [],
   "source": [
    "differently_rated_movies = movies.loc[fm_diff.head().index][\"FILM\"]\n",
    "differently_rated_movies = '\\n'.join(differently_rated_movies.values)"
   ]
  },
  {
   "cell_type": "code",
   "execution_count": 46,
   "metadata": {
    "collapsed": false,
    "scrolled": true
   },
   "outputs": [
    {
     "name": "stdout",
     "output_type": "stream",
     "text": [
      "The top 5 differently rated  movies are: \n",
      "Do You Believe? (2015)\n",
      "Taken 3 (2015)\n",
      "The Longest Ride (2015)\n",
      "Annie (2014)\n",
      "Pixels (2015)\n"
     ]
    }
   ],
   "source": [
    "print(\"\"\"The top 5 differently rated  movies are: \\n{0}\"\"\".format(differently_rated_movies))  \n"
   ]
  },
  {
   "cell_type": "markdown",
   "metadata": {},
   "source": [
    "## Correlation analysis between Fandango and Metacritic ratings"
   ]
  },
  {
   "cell_type": "code",
   "execution_count": 55,
   "metadata": {
    "collapsed": false,
    "scrolled": true
   },
   "outputs": [
    {
     "name": "stdout",
     "output_type": "stream",
     "text": [
      "The correlation between Metacritic and Fandango ratings is 0.17844919073895918 for a p-value of 0.031161516228523815\n"
     ]
    }
   ],
   "source": [
    "x = movies[\"Metacritic_norm_round\"]\n",
    "y = movies[\"Fandango_Stars\"]\n",
    "correlation, p_value = sps.pearsonr(x, y)\n",
    "correlation_message = \"The correlation between Metacritic and Fandango ratings is {0} for a p-value of {1}\"\n",
    "print(correlation_message.format(correlation, p_value))"
   ]
  },
  {
   "cell_type": "markdown",
   "metadata": {},
   "source": [
    "=> The low correlation (which is significant at an $alpha=0.05$ level) might mean that the two ratings systems are independent (this is of course just an assumption which is generally false). \n",
    "This is why for the next part we will analyse a linear regression model between both."
   ]
  },
  {
   "cell_type": "markdown",
   "metadata": {},
   "source": [
    "## Linear regression between the two ratings systems"
   ]
  },
  {
   "cell_type": "code",
   "execution_count": 65,
   "metadata": {
    "collapsed": false
   },
   "outputs": [],
   "source": [
    "slope, intercept, _, _,stderr = sps.linregress(x,y)"
   ]
  },
  {
   "cell_type": "markdown",
   "metadata": {},
   "source": [
    "## Predict the Fandango rating given a Metacritic one"
   ]
  },
  {
   "cell_type": "code",
   "execution_count": 75,
   "metadata": {
    "collapsed": false
   },
   "outputs": [
    {
     "name": "stdout",
     "output_type": "stream",
     "text": [
      "The Fandango rating for a 3.0 Metacritic one is: 4.091707152821204\n"
     ]
    }
   ],
   "source": [
    "def make_prediction(x):\n",
    "    return slope * x + intercept\n",
    "\n",
    "metacritic_rating = 3.0\n",
    "fandango_predicted_rating = make_prediction(metacritic_rating)\n",
    "prediction_message = \"The Fandango rating for a {0} Metacritic one is: {1}\"\n",
    "print(prediction_message.format(metacritic_rating, \n",
    "                                fandango_predicted_rating))"
   ]
  },
  {
   "cell_type": "markdown",
   "metadata": {},
   "source": [
    "## A scatter plot + fitted regression line"
   ]
  },
  {
   "cell_type": "code",
   "execution_count": 88,
   "metadata": {
    "collapsed": false,
    "scrolled": false
   },
   "outputs": [
    {
     "data": {
      "text/plain": [
       "[<matplotlib.lines.Line2D at 0x7fd27f271cf8>]"
      ]
     },
     "execution_count": 88,
     "metadata": {},
     "output_type": "execute_result"
    },
    {
     "data": {
      "image/png": "[encoded data removed]",
      "text/plain": [
       "<matplotlib.figure.Figure at 0x7fd27f336e10>"
      ]
     },
     "metadata": {},
     "output_type": "display_data"
    }
   ],
   "source": [
    "fandango_predicted_ratings = list(map(make_prediction, \n",
    "                                      x))\n",
    "plt.scatter(x, y)\n",
    "plt.plot(x, fandango_predicted_ratings, color='red')"
   ]
  },
  {
   "cell_type": "markdown",
   "metadata": {},
   "source": [
    "## Display the residuals distribution of the fitted Fandango ratings"
   ]
  },
  {
   "cell_type": "code",
   "execution_count": 153,
   "metadata": {
    "collapsed": true
   },
   "outputs": [],
   "source": [
    "# Construct a Gaussian curve using the mean and std of the Fandango \n",
    "# residuals\n",
    "np.random.seed(314159265)\n",
    "min_res = fandango_ratings_residuals.min()\n",
    "max_res = fandango_ratings_residuals.max()\n",
    "linear_space = np.linspace(min_res, max_res, \n",
    "                           len(fandango_ratings_residuals))\n",
    "mean = fandango_ratings_residuals.mean()\n",
    "std = fandango_ratings_residuals.std()\n",
    "normal_residuals = sps.norm.pdf(linear_space, mean, std)"
   ]
  },
  {
   "cell_type": "code",
   "execution_count": 154,
   "metadata": {
    "collapsed": false,
    "scrolled": false
   },
   "outputs": [
    {
     "data": {
      "text/plain": [
       "[<matplotlib.lines.Line2D at 0x7fd27cd99d30>]"
      ]
     },
     "execution_count": 154,
     "metadata": {},
     "output_type": "execute_result"
    },
    {
     "data": {
      "image/png": "[encoded data removed]",
      "text/plain": [
       "<matplotlib.figure.Figure at 0x7fd27cd1f4e0>"
      ]
     },
     "metadata": {},
     "output_type": "display_data"
    }
   ],
   "source": [
    "import seaborn as sns\n",
    "fandango_ratings_residuals = fandango_predicted_ratings - y\n",
    "def IQR(x):\n",
    "    return np.ediff1d(x.quantile([0.25, 0.75]))\n",
    "def optimal_bins_width(x):\n",
    "    return 2 * IQR(x) / (len(x) ** (1/3))\n",
    "def optimal_bins_number(x):\n",
    "    return (x.max() - x.min()) / optimal_bins_width(x)\n",
    "bins = int(optimal_bins_number(fandango_ratings_residuals))\n",
    "sns.distplot(fandango_ratings_residuals, bins=bins, color=\"r\")\n",
    "plt.plot(linear_space, normal_residuals)"
   ]
  },
  {
   "cell_type": "markdown",
   "metadata": {},
   "source": [
    "=> The residuals doesn't seem to be drawn from a **Gaussian** distribution. Let's test this assumption."
   ]
  },
  {
   "cell_type": "markdown",
   "metadata": {},
   "source": [
    "## Testing the normality of the residuals"
   ]
  },
  {
   "cell_type": "code",
   "execution_count": 159,
   "metadata": {
    "collapsed": false
   },
   "outputs": [],
   "source": [
    "_, normality_p_value = sps.normaltest(fandango_ratings_residuals)"
   ]
  },
  {
   "cell_type": "code",
   "execution_count": 160,
   "metadata": {
    "collapsed": false,
    "scrolled": true
   },
   "outputs": [
    {
     "data": {
      "text/plain": [
       "0.029984190318971815"
      ]
     },
     "execution_count": 160,
     "metadata": {},
     "output_type": "execute_result"
    }
   ],
   "source": [
    "normality_p_value"
   ]
  },
  {
   "cell_type": "markdown",
   "metadata": {},
   "source": [
    "=> The fandango residuals are thus **normal** at \n",
    "$alpha=0.05$ level but not at $alpha=0.01$ one."
   ]
  },
  {
   "cell_type": "markdown",
   "metadata": {},
   "source": [
    "## To end out investigation, a qqplot"
   ]
  },
  {
   "cell_type": "code",
   "execution_count": 167,
   "metadata": {
    "collapsed": false
   },
   "outputs": [
    {
     "data": {
      "image/png": "[encoded data removed]",
      "text/plain": [
       "<matplotlib.figure.Figure at 0x7fd27c9ea940>"
      ]
     },
     "metadata": {},
     "output_type": "display_data"
    }
   ],
   "source": [
    "sps.probplot(fandango_ratings_residuals, dist=\"norm\", plot=plt)\n",
    "plt.show()"
   ]
  }
 ],
 "metadata": {
  "kernelspec": {
   "display_name": "Python 3",
   "language": "python",
   "name": "python3"
  },
  "language_info": {
   "codemirror_mode": {
    "name": "ipython",
    "version": 3
   },
   "file_extension": ".py",
   "mimetype": "text/x-python",
   "name": "python",
   "nbconvert_exporter": "python",
   "pygments_lexer": "ipython3",
   "version": "3.4.3"
  }
 },
 "nbformat": 4,
 "nbformat_minor": 0
}
