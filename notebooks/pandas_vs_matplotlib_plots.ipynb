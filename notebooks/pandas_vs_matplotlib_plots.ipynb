{
 "cells": [
  {
   "cell_type": "markdown",
   "metadata": {},
   "source": [
    "\n",
    "In this notebook, I try to implement pandas plotting functions using basic matplotlib functions.\n",
    "* Author: Yassine Alouini\n",
    "* Date: 7-5-2016\n",
    "* License: MIT"
   ]
  },
  {
   "cell_type": "code",
   "execution_count": 2,
   "metadata": {
    "collapsed": false
   },
   "outputs": [],
   "source": [
    "import pandas as pd\n",
    "import matplotlib.pyplot as plt\n",
    "%matplotlib inline "
   ]
  },
  {
   "cell_type": "code",
   "execution_count": 7,
   "metadata": {
    "collapsed": true
   },
   "outputs": [],
   "source": [
    "# The recent grads dataset is assumed to be at the same level \n",
    "# as the notebook\n",
    "recent_grads_df = pd.read_csv(\"recent-grads.csv\")"
   ]
  },
  {
   "cell_type": "code",
   "execution_count": 8,
   "metadata": {
    "collapsed": false,
    "scrolled": true
   },
   "outputs": [
    {
     "data": {
      "text/html": [
       "<div style=\"max-height:1000px;max-width:1500px;overflow:auto;\">\n",
       "<table border=\"1\" class=\"dataframe\">\n",
       "  <thead>\n",
       "    <tr style=\"text-align: right;\">\n",
       "      <th></th>\n",
       "      <th>Rank</th>\n",
       "      <th>Major_code</th>\n",
       "      <th>Major</th>\n",
       "      <th>Total</th>\n",
       "      <th>Men</th>\n",
       "      <th>Women</th>\n",
       "      <th>Major_category</th>\n",
       "      <th>ShareWomen</th>\n",
       "      <th>Sample_size</th>\n",
       "      <th>Employed</th>\n",
       "      <th>...</th>\n",
       "      <th>Part_time</th>\n",
       "      <th>Full_time_year_round</th>\n",
       "      <th>Unemployed</th>\n",
       "      <th>Unemployment_rate</th>\n",
       "      <th>Median</th>\n",
       "      <th>P25th</th>\n",
       "      <th>P75th</th>\n",
       "      <th>College_jobs</th>\n",
       "      <th>Non_college_jobs</th>\n",
       "      <th>Low_wage_jobs</th>\n",
       "    </tr>\n",
       "  </thead>\n",
       "  <tbody>\n",
       "    <tr>\n",
       "      <th>0</th>\n",
       "      <td> 1</td>\n",
       "      <td> 2419</td>\n",
       "      <td> PETROLEUM ENGINEERING</td>\n",
       "      <td> 2339</td>\n",
       "      <td> 2057</td>\n",
       "      <td> 282</td>\n",
       "      <td> Engineering</td>\n",
       "      <td> 0.120564</td>\n",
       "      <td> 36</td>\n",
       "      <td> 1976</td>\n",
       "      <td>...</td>\n",
       "      <td> 270</td>\n",
       "      <td> 1207</td>\n",
       "      <td> 37</td>\n",
       "      <td> 0.018381</td>\n",
       "      <td> 110000</td>\n",
       "      <td> 95000</td>\n",
       "      <td> 125000</td>\n",
       "      <td> 1534</td>\n",
       "      <td> 364</td>\n",
       "      <td> 193</td>\n",
       "    </tr>\n",
       "  </tbody>\n",
       "</table>\n",
       "<p>1 rows × 21 columns</p>\n",
       "</div>"
      ],
      "text/plain": [
       "   Rank  Major_code                  Major  Total   Men  Women Major_category  \\\n",
       "0     1        2419  PETROLEUM ENGINEERING   2339  2057    282    Engineering   \n",
       "\n",
       "   ShareWomen  Sample_size  Employed      ...        Part_time  \\\n",
       "0    0.120564           36      1976      ...              270   \n",
       "\n",
       "   Full_time_year_round  Unemployed  Unemployment_rate  Median  P25th   P75th  \\\n",
       "0                  1207          37           0.018381  110000  95000  125000   \n",
       "\n",
       "   College_jobs  Non_college_jobs  Low_wage_jobs  \n",
       "0          1534               364            193  \n",
       "\n",
       "[1 rows x 21 columns]"
      ]
     },
     "execution_count": 8,
     "metadata": {},
     "output_type": "execute_result"
    }
   ],
   "source": [
    "# First line of the recent grads data\n",
    "recent_grads_df.head(1)"
   ]
  },
  {
   "cell_type": "code",
   "execution_count": 9,
   "metadata": {
    "collapsed": false,
    "scrolled": true
   },
   "outputs": [
    {
     "data": {
      "text/html": [
       "<div style=\"max-height:1000px;max-width:1500px;overflow:auto;\">\n",
       "<table border=\"1\" class=\"dataframe\">\n",
       "  <thead>\n",
       "    <tr style=\"text-align: right;\">\n",
       "      <th></th>\n",
       "      <th>Rank</th>\n",
       "      <th>Major_code</th>\n",
       "      <th>Major</th>\n",
       "      <th>Total</th>\n",
       "      <th>Men</th>\n",
       "      <th>Women</th>\n",
       "      <th>Major_category</th>\n",
       "      <th>ShareWomen</th>\n",
       "      <th>Sample_size</th>\n",
       "      <th>Employed</th>\n",
       "      <th>...</th>\n",
       "      <th>Part_time</th>\n",
       "      <th>Full_time_year_round</th>\n",
       "      <th>Unemployed</th>\n",
       "      <th>Unemployment_rate</th>\n",
       "      <th>Median</th>\n",
       "      <th>P25th</th>\n",
       "      <th>P75th</th>\n",
       "      <th>College_jobs</th>\n",
       "      <th>Non_college_jobs</th>\n",
       "      <th>Low_wage_jobs</th>\n",
       "    </tr>\n",
       "  </thead>\n",
       "  <tbody>\n",
       "    <tr>\n",
       "      <th>172</th>\n",
       "      <td> 173</td>\n",
       "      <td> 3501</td>\n",
       "      <td> LIBRARY SCIENCE</td>\n",
       "      <td> 1098</td>\n",
       "      <td> 134</td>\n",
       "      <td> 964</td>\n",
       "      <td> Education</td>\n",
       "      <td> 0.87796</td>\n",
       "      <td> 2</td>\n",
       "      <td> 742</td>\n",
       "      <td>...</td>\n",
       "      <td> 237</td>\n",
       "      <td> 410</td>\n",
       "      <td> 87</td>\n",
       "      <td> 0.104946</td>\n",
       "      <td> 22000</td>\n",
       "      <td> 20000</td>\n",
       "      <td> 22000</td>\n",
       "      <td> 288</td>\n",
       "      <td> 338</td>\n",
       "      <td> 192</td>\n",
       "    </tr>\n",
       "  </tbody>\n",
       "</table>\n",
       "<p>1 rows × 21 columns</p>\n",
       "</div>"
      ],
      "text/plain": [
       "     Rank  Major_code            Major  Total  Men  Women Major_category  \\\n",
       "172   173        3501  LIBRARY SCIENCE   1098  134    964      Education   \n",
       "\n",
       "     ShareWomen  Sample_size  Employed      ...        Part_time  \\\n",
       "172     0.87796            2       742      ...              237   \n",
       "\n",
       "     Full_time_year_round  Unemployed  Unemployment_rate  Median  P25th  \\\n",
       "172                   410          87           0.104946   22000  20000   \n",
       "\n",
       "     P75th  College_jobs  Non_college_jobs  Low_wage_jobs  \n",
       "172  22000           288               338            192  \n",
       "\n",
       "[1 rows x 21 columns]"
      ]
     },
     "execution_count": 9,
     "metadata": {},
     "output_type": "execute_result"
    }
   ],
   "source": [
    "# Last line of the recent grads data\n",
    "recent_grads_df.tail(1)"
   ]
  },
  {
   "cell_type": "code",
   "execution_count": 11,
   "metadata": {
    "collapsed": false,
    "scrolled": true
   },
   "outputs": [
    {
     "data": {
      "text/html": [
       "<div style=\"max-height:1000px;max-width:1500px;overflow:auto;\">\n",
       "<table border=\"1\" class=\"dataframe\">\n",
       "  <thead>\n",
       "    <tr style=\"text-align: right;\">\n",
       "      <th></th>\n",
       "      <th>Rank</th>\n",
       "      <th>Major_code</th>\n",
       "      <th>Total</th>\n",
       "      <th>Men</th>\n",
       "      <th>Women</th>\n",
       "      <th>ShareWomen</th>\n",
       "      <th>Sample_size</th>\n",
       "      <th>Employed</th>\n",
       "      <th>Full_time</th>\n",
       "      <th>Part_time</th>\n",
       "      <th>Full_time_year_round</th>\n",
       "      <th>Unemployed</th>\n",
       "      <th>Unemployment_rate</th>\n",
       "      <th>Median</th>\n",
       "      <th>P25th</th>\n",
       "      <th>P75th</th>\n",
       "      <th>College_jobs</th>\n",
       "      <th>Non_college_jobs</th>\n",
       "      <th>Low_wage_jobs</th>\n",
       "    </tr>\n",
       "  </thead>\n",
       "  <tbody>\n",
       "    <tr>\n",
       "      <th>count</th>\n",
       "      <td> 173.000000</td>\n",
       "      <td>  173.000000</td>\n",
       "      <td>    172.000000</td>\n",
       "      <td>    172.000000</td>\n",
       "      <td>    172.000000</td>\n",
       "      <td> 172.000000</td>\n",
       "      <td>  173.000000</td>\n",
       "      <td>    173.000000</td>\n",
       "      <td>    173.000000</td>\n",
       "      <td>    173.000000</td>\n",
       "      <td>    173.000000</td>\n",
       "      <td>   173.000000</td>\n",
       "      <td> 173.000000</td>\n",
       "      <td>    173.000000</td>\n",
       "      <td>   173.000000</td>\n",
       "      <td>    173.000000</td>\n",
       "      <td>    173.000000</td>\n",
       "      <td>    173.000000</td>\n",
       "      <td>   173.000000</td>\n",
       "    </tr>\n",
       "    <tr>\n",
       "      <th>mean</th>\n",
       "      <td>  87.000000</td>\n",
       "      <td> 3879.815029</td>\n",
       "      <td>  39370.081395</td>\n",
       "      <td>  16723.406977</td>\n",
       "      <td>  22646.674419</td>\n",
       "      <td>   0.522223</td>\n",
       "      <td>  356.080925</td>\n",
       "      <td>  31192.763006</td>\n",
       "      <td>  26029.306358</td>\n",
       "      <td>   8832.398844</td>\n",
       "      <td>  19694.427746</td>\n",
       "      <td>  2416.329480</td>\n",
       "      <td>   0.068191</td>\n",
       "      <td>  40151.445087</td>\n",
       "      <td> 29501.445087</td>\n",
       "      <td>  51494.219653</td>\n",
       "      <td>  12322.635838</td>\n",
       "      <td>  13284.497110</td>\n",
       "      <td>  3859.017341</td>\n",
       "    </tr>\n",
       "    <tr>\n",
       "      <th>std</th>\n",
       "      <td>  50.084928</td>\n",
       "      <td> 1687.753140</td>\n",
       "      <td>  63483.491009</td>\n",
       "      <td>  28122.433474</td>\n",
       "      <td>  41057.330740</td>\n",
       "      <td>   0.231205</td>\n",
       "      <td>  618.361022</td>\n",
       "      <td>  50675.002241</td>\n",
       "      <td>  42869.655092</td>\n",
       "      <td>  14648.179473</td>\n",
       "      <td>  33160.941514</td>\n",
       "      <td>  4112.803148</td>\n",
       "      <td>   0.030331</td>\n",
       "      <td>  11470.181802</td>\n",
       "      <td>  9166.005235</td>\n",
       "      <td>  14906.279740</td>\n",
       "      <td>  21299.868863</td>\n",
       "      <td>  23789.655363</td>\n",
       "      <td>  6944.998579</td>\n",
       "    </tr>\n",
       "    <tr>\n",
       "      <th>min</th>\n",
       "      <td>   1.000000</td>\n",
       "      <td> 1100.000000</td>\n",
       "      <td>    124.000000</td>\n",
       "      <td>    119.000000</td>\n",
       "      <td>      0.000000</td>\n",
       "      <td>   0.000000</td>\n",
       "      <td>    2.000000</td>\n",
       "      <td>      0.000000</td>\n",
       "      <td>    111.000000</td>\n",
       "      <td>      0.000000</td>\n",
       "      <td>    111.000000</td>\n",
       "      <td>     0.000000</td>\n",
       "      <td>   0.000000</td>\n",
       "      <td>  22000.000000</td>\n",
       "      <td> 18500.000000</td>\n",
       "      <td>  22000.000000</td>\n",
       "      <td>      0.000000</td>\n",
       "      <td>      0.000000</td>\n",
       "      <td>     0.000000</td>\n",
       "    </tr>\n",
       "    <tr>\n",
       "      <th>25%</th>\n",
       "      <td>  44.000000</td>\n",
       "      <td> 2403.000000</td>\n",
       "      <td>   4549.750000</td>\n",
       "      <td>   2177.500000</td>\n",
       "      <td>   1778.250000</td>\n",
       "      <td>   0.336026</td>\n",
       "      <td>   39.000000</td>\n",
       "      <td>   3608.000000</td>\n",
       "      <td>   3154.000000</td>\n",
       "      <td>   1030.000000</td>\n",
       "      <td>   2453.000000</td>\n",
       "      <td>   304.000000</td>\n",
       "      <td>   0.050306</td>\n",
       "      <td>  33000.000000</td>\n",
       "      <td> 24000.000000</td>\n",
       "      <td>  42000.000000</td>\n",
       "      <td>   1675.000000</td>\n",
       "      <td>   1591.000000</td>\n",
       "      <td>   340.000000</td>\n",
       "    </tr>\n",
       "    <tr>\n",
       "      <th>50%</th>\n",
       "      <td>  87.000000</td>\n",
       "      <td> 3608.000000</td>\n",
       "      <td>  15104.000000</td>\n",
       "      <td>   5434.000000</td>\n",
       "      <td>   8386.500000</td>\n",
       "      <td>   0.534024</td>\n",
       "      <td>  130.000000</td>\n",
       "      <td>  11797.000000</td>\n",
       "      <td>  10048.000000</td>\n",
       "      <td>   3299.000000</td>\n",
       "      <td>   7413.000000</td>\n",
       "      <td>   893.000000</td>\n",
       "      <td>   0.067961</td>\n",
       "      <td>  36000.000000</td>\n",
       "      <td> 27000.000000</td>\n",
       "      <td>  47000.000000</td>\n",
       "      <td>   4390.000000</td>\n",
       "      <td>   4595.000000</td>\n",
       "      <td>  1231.000000</td>\n",
       "    </tr>\n",
       "    <tr>\n",
       "      <th>75%</th>\n",
       "      <td> 130.000000</td>\n",
       "      <td> 5503.000000</td>\n",
       "      <td>  38909.750000</td>\n",
       "      <td>  14631.000000</td>\n",
       "      <td>  22553.750000</td>\n",
       "      <td>   0.703299</td>\n",
       "      <td>  338.000000</td>\n",
       "      <td>  31433.000000</td>\n",
       "      <td>  25147.000000</td>\n",
       "      <td>   9948.000000</td>\n",
       "      <td>  16891.000000</td>\n",
       "      <td>  2393.000000</td>\n",
       "      <td>   0.087557</td>\n",
       "      <td>  45000.000000</td>\n",
       "      <td> 33000.000000</td>\n",
       "      <td>  60000.000000</td>\n",
       "      <td>  14444.000000</td>\n",
       "      <td>  11783.000000</td>\n",
       "      <td>  3466.000000</td>\n",
       "    </tr>\n",
       "    <tr>\n",
       "      <th>max</th>\n",
       "      <td> 173.000000</td>\n",
       "      <td> 6403.000000</td>\n",
       "      <td> 393735.000000</td>\n",
       "      <td> 173809.000000</td>\n",
       "      <td> 307087.000000</td>\n",
       "      <td>   0.968954</td>\n",
       "      <td> 4212.000000</td>\n",
       "      <td> 307933.000000</td>\n",
       "      <td> 251540.000000</td>\n",
       "      <td> 115172.000000</td>\n",
       "      <td> 199897.000000</td>\n",
       "      <td> 28169.000000</td>\n",
       "      <td>   0.177226</td>\n",
       "      <td> 110000.000000</td>\n",
       "      <td> 95000.000000</td>\n",
       "      <td> 125000.000000</td>\n",
       "      <td> 151643.000000</td>\n",
       "      <td> 148395.000000</td>\n",
       "      <td> 48207.000000</td>\n",
       "    </tr>\n",
       "  </tbody>\n",
       "</table>\n",
       "</div>"
      ],
      "text/plain": [
       "             Rank   Major_code          Total            Men          Women  \\\n",
       "count  173.000000   173.000000     172.000000     172.000000     172.000000   \n",
       "mean    87.000000  3879.815029   39370.081395   16723.406977   22646.674419   \n",
       "std     50.084928  1687.753140   63483.491009   28122.433474   41057.330740   \n",
       "min      1.000000  1100.000000     124.000000     119.000000       0.000000   \n",
       "25%     44.000000  2403.000000    4549.750000    2177.500000    1778.250000   \n",
       "50%     87.000000  3608.000000   15104.000000    5434.000000    8386.500000   \n",
       "75%    130.000000  5503.000000   38909.750000   14631.000000   22553.750000   \n",
       "max    173.000000  6403.000000  393735.000000  173809.000000  307087.000000   \n",
       "\n",
       "       ShareWomen  Sample_size       Employed      Full_time      Part_time  \\\n",
       "count  172.000000   173.000000     173.000000     173.000000     173.000000   \n",
       "mean     0.522223   356.080925   31192.763006   26029.306358    8832.398844   \n",
       "std      0.231205   618.361022   50675.002241   42869.655092   14648.179473   \n",
       "min      0.000000     2.000000       0.000000     111.000000       0.000000   \n",
       "25%      0.336026    39.000000    3608.000000    3154.000000    1030.000000   \n",
       "50%      0.534024   130.000000   11797.000000   10048.000000    3299.000000   \n",
       "75%      0.703299   338.000000   31433.000000   25147.000000    9948.000000   \n",
       "max      0.968954  4212.000000  307933.000000  251540.000000  115172.000000   \n",
       "\n",
       "       Full_time_year_round    Unemployed  Unemployment_rate         Median  \\\n",
       "count            173.000000    173.000000         173.000000     173.000000   \n",
       "mean           19694.427746   2416.329480           0.068191   40151.445087   \n",
       "std            33160.941514   4112.803148           0.030331   11470.181802   \n",
       "min              111.000000      0.000000           0.000000   22000.000000   \n",
       "25%             2453.000000    304.000000           0.050306   33000.000000   \n",
       "50%             7413.000000    893.000000           0.067961   36000.000000   \n",
       "75%            16891.000000   2393.000000           0.087557   45000.000000   \n",
       "max           199897.000000  28169.000000           0.177226  110000.000000   \n",
       "\n",
       "              P25th          P75th   College_jobs  Non_college_jobs  \\\n",
       "count    173.000000     173.000000     173.000000        173.000000   \n",
       "mean   29501.445087   51494.219653   12322.635838      13284.497110   \n",
       "std     9166.005235   14906.279740   21299.868863      23789.655363   \n",
       "min    18500.000000   22000.000000       0.000000          0.000000   \n",
       "25%    24000.000000   42000.000000    1675.000000       1591.000000   \n",
       "50%    27000.000000   47000.000000    4390.000000       4595.000000   \n",
       "75%    33000.000000   60000.000000   14444.000000      11783.000000   \n",
       "max    95000.000000  125000.000000  151643.000000     148395.000000   \n",
       "\n",
       "       Low_wage_jobs  \n",
       "count     173.000000  \n",
       "mean     3859.017341  \n",
       "std      6944.998579  \n",
       "min         0.000000  \n",
       "25%       340.000000  \n",
       "50%      1231.000000  \n",
       "75%      3466.000000  \n",
       "max     48207.000000  "
      ]
     },
     "execution_count": 11,
     "metadata": {},
     "output_type": "execute_result"
    }
   ],
   "source": [
    "# Some general descriptive statistics\n",
    "recent_grads_df.describe()"
   ]
  },
  {
   "cell_type": "code",
   "execution_count": 14,
   "metadata": {
    "collapsed": false
   },
   "outputs": [
    {
     "name": "stdout",
     "output_type": "stream",
     "text": [
      "1 line(s) removed\n"
     ]
    }
   ],
   "source": [
    "# Looking for missing values and counting the rows\n",
    "cleaned_recent_grads_df = recent_grads_df.dropna()\n",
    "removed_rows_count = len(recent_grads_df) - len(cleaned_recent_grads_df)\n",
    "print(\"{line} line(s) removed\".format(line=removed_rows_count))"
   ]
  },
  {
   "cell_type": "code",
   "execution_count": 80,
   "metadata": {
    "collapsed": false,
    "scrolled": true
   },
   "outputs": [
    {
     "data": {
      "text/plain": [
       "array([[<matplotlib.axes._subplots.AxesSubplot object at 0x7f4fd36989b0>,\n",
       "        <matplotlib.axes._subplots.AxesSubplot object at 0x7f4fda149128>],\n",
       "       [<matplotlib.axes._subplots.AxesSubplot object at 0x7f4fd372d908>,\n",
       "        <matplotlib.axes._subplots.AxesSubplot object at 0x7f4fd35cf2e8>]], dtype=object)"
      ]
     },
     "execution_count": 80,
     "metadata": {},
     "output_type": "execute_result"
    },
    {
     "data": {
      "image/png": "[encoded data removed]",
      "text/plain": [
       "<matplotlib.figure.Figure at 0x7f4fd3038080>"
      ]
     },
     "metadata": {},
     "output_type": "display_data"
    }
   ],
   "source": [
    "# A scatter matrix using pandas plotting tools\n",
    "from pandas.tools.plotting import scatter_matrix\n",
    "scatter_matrix(cleaned_recent_grads_df[\n",
    "        [\"ShareWomen\",\"Unemployment_rate\"]])"
   ]
  },
  {
   "cell_type": "code",
   "execution_count": 53,
   "metadata": {
    "collapsed": false,
    "scrolled": true
   },
   "outputs": [
    {
     "data": {
      "image/png": "[encoded data removed]",
      "text/plain": [
       "<matplotlib.figure.Figure at 0x7f4fda232278>"
      ]
     },
     "metadata": {},
     "output_type": "display_data"
    }
   ],
   "source": [
    "# The same plot as above, this time using matplotlib \n",
    "# low-level functions.\n",
    "fig, axes = plt.subplots(2,2, figsize=(10,10))\n",
    "axes = axes.ravel()\n",
    "ax1, ax2, ax3, ax4 = axes\n",
    "\n",
    "\n",
    "cleaned_recent_grads_df[\"ShareWomen\"].hist(ax=ax1)\n",
    "cleaned_recent_grads_df.plot(x='Unemployment_rate',\n",
    "                                     y='ShareWomen',\n",
    "                                     ax=ax2, kind='scatter')\n",
    "cleaned_recent_grads_df.plot(x='ShareWomen', \n",
    "                                     y='Unemployment_rate', \n",
    "                                     ax=ax3, kind='scatter')\n",
    "cleaned_recent_grads_df[\"Unemployment_rate\"].hist(ax=ax4)\n",
    "\n",
    "# Remove some x and y axes\n",
    "ax1.get_xaxis().set_visible(False)\n",
    "ax2.get_xaxis().set_visible(False)\n",
    "ax2.get_yaxis().set_visible(False)\n",
    "ax4.get_yaxis().set_visible(False)\n",
    "\n",
    "# Set axes labels\n",
    "\n",
    "ax1.set_ylabel(\"ShareWomen\")\n",
    "ax3.set_xlabel(\"ShareWomen\")\n",
    "ax3.set_ylabel(\"Unemployment_rate\")\n",
    "ax4.set_xlabel(\"Unemployment_rate\")\n",
    "\n",
    "# Set axes tick labels\n",
    "\n",
    "ax1.set_yticklabels([0, 5, 10, 15, 20, 25, 30])\n",
    "ax3.set_xticklabels([0.0, 0.2, 0.4, 0.6, 0.8], rotation=90)\n",
    "ax3.set_yticklabels([0.00, 0.05, 0.10, 0.15])\n",
    "ax4.set_xticklabels([0.00, 0.05, 0.10, 0.15, 0.20], rotation=90)\n",
    "\n",
    "# Adjust x and y axes value limits\n",
    "\n",
    "ax1.set_ylim(0,30)\n",
    "ax2.set_xlim(0.0, 0.20)\n",
    "ax3.set_xlim(0.0, 1.0)\n",
    "ax3.set_ylim(0.0, 0.20)\n",
    "ax4.set_xlim(0.0, 0.20)\n",
    "\n",
    "# Adjust figure spacing\n",
    "\n",
    "fig.subplots_adjust(wspace=0, hspace=0)\n"
   ]
  },
  {
   "cell_type": "code",
   "execution_count": 54,
   "metadata": {
    "collapsed": true
   },
   "outputs": [],
   "source": [
    "# Create a ShareMen column containing the proportion of men\n",
    "recent_grads_df[\"ShareMen\"] = recent_grads_df[\"Men\"] / recent_grads_df[\"Total\"]"
   ]
  },
  {
   "cell_type": "code",
   "execution_count": 70,
   "metadata": {
    "collapsed": false
   },
   "outputs": [],
   "source": [
    "# Select only the \"Arts\" majors\n",
    "arts_grads_df = recent_grads_df[recent_grads_df.Major_category == \"Arts\"]"
   ]
  },
  {
   "cell_type": "code",
   "execution_count": 78,
   "metadata": {
    "collapsed": false
   },
   "outputs": [
    {
     "data": {
      "text/plain": [
       "<matplotlib.axes._subplots.AxesSubplot at 0x7f4fd9f15588>"
      ]
     },
     "execution_count": 78,
     "metadata": {},
     "output_type": "execute_result"
    },
    {
     "data": {
      "image/png": "[encoded data removed]",
      "text/plain": [
       "<matplotlib.figure.Figure at 0x7f4fd371a588>"
      ]
     },
     "metadata": {},
     "output_type": "display_data"
    }
   ],
   "source": [
    "# A stacked bar plot using pandas\n",
    "arts_grads_df.set_index(\"Major\")[[\"ShareMen\", \"ShareWomen\"]].plot(figsize=(8,8), \n",
    "                                                                  kind=\"bar\")"
   ]
  },
  {
   "cell_type": "code",
   "execution_count": 76,
   "metadata": {
    "collapsed": false
   },
   "outputs": [
    {
     "data": {
      "image/png": "[encoded data removed]",
      "text/plain": [
       "<matplotlib.figure.Figure at 0x7f4fd81d5f28>"
      ]
     },
     "metadata": {},
     "output_type": "display_data"
    }
   ],
   "source": [
    "# The same plot as above, this time using matplotlib \n",
    "# low-level functions.\n",
    "import numpy as np\n",
    "fig = plt.figure(figsize=(8,8))\n",
    "ax = fig.add_subplot(111)\n",
    "count_majors = len(arts_grads_df[\"Major\"].unique())\n",
    "locs = np.arange(count_majors)\n",
    "bar_1 = ax.bar(left=locs, \n",
    "               height=arts_grads_df[\"ShareMen\"].tolist(), \n",
    "               width=0.35)\n",
    "ax.set_xticklabels(arts_grads_df[\"Major\"].tolist(), rotation=90)\n",
    "offset_locs = locs + 0.35\n",
    "bar_2 = ax.bar(left=offset_locs, \n",
    "               height=arts_grads_df[\"ShareWomen\"].tolist(), \n",
    "               width=0.35, color=\"green\")\n",
    "ax.set_xticks(offset_locs)\n",
    "ax.legend((bar_1, bar_2), (\"ShareMen\", \"ShareWomen\"), loc=\"upper left\")\n",
    "plt.grid()"
   ]
  }
 ],
 "metadata": {
  "kernelspec": {
   "display_name": "Python 3",
   "language": "python",
   "name": "python3"
  },
  "language_info": {
   "codemirror_mode": {
    "name": "ipython",
    "version": 3
   },
   "file_extension": ".py",
   "mimetype": "text/x-python",
   "name": "python",
   "nbconvert_exporter": "python",
   "pygments_lexer": "ipython3",
   "version": "3.5.1"
  },
  "toc": {
   "toc_cell": false,
   "toc_number_sections": true,
   "toc_threshold": 6,
   "toc_window_display": false
  }
 },
 "nbformat": 4,
 "nbformat_minor": 0
}
