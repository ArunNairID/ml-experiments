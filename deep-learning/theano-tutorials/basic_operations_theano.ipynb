{
 "cells": [
  {
   "cell_type": "markdown",
   "metadata": {},
   "source": [
    "A notebook exploring basic **Theano** concepts and operations.\n",
    "This is mostly inspired from the following page: http://deeplearning.net/software/theano/tutorial/adding.html#adding-two-scalars"
   ]
  },
  {
   "cell_type": "code",
   "execution_count": 2,
   "metadata": {
    "ExecuteTime": {
     "end_time": "2016-06-05T18:21:37.179733",
     "start_time": "2016-06-05T18:21:35.992941"
    },
    "collapsed": false
   },
   "outputs": [
    {
     "name": "stdout",
     "output_type": "stream",
     "text": [
      "Couldn't import dot_parser, loading of dot files will not be possible.\n"
     ]
    }
   ],
   "source": [
    "import numpy as np\n",
    "import theano.tensor as T\n",
    "from theano import pp\n",
    "from theano import function"
   ]
  },
  {
   "cell_type": "markdown",
   "metadata": {},
   "source": [
    "## Create some variables and functions"
   ]
  },
  {
   "cell_type": "code",
   "execution_count": 21,
   "metadata": {
    "ExecuteTime": {
     "end_time": "2016-06-05T18:11:03.987670",
     "start_time": "2016-06-05T18:11:03.957481"
    },
    "collapsed": true
   },
   "outputs": [],
   "source": [
    "x = T.dscalar('x')\n",
    "y = T.dscalar('y')\n",
    "A = T.dmatrix('A')\n",
    "B = T.dmatrix('B')\n",
    "z = x + y\n",
    "C = A * B\n",
    "adding = function([x, y], z)\n",
    "# Element wise multiplication of two matrices\n",
    "multiply = function([A, B], C) "
   ]
  },
  {
   "cell_type": "code",
   "execution_count": 8,
   "metadata": {
    "ExecuteTime": {
     "end_time": "2016-06-05T14:11:19.580293",
     "start_time": "2016-06-05T14:11:19.572734"
    },
    "collapsed": false
   },
   "outputs": [
    {
     "name": "stdout",
     "output_type": "stream",
     "text": [
      "TensorType(float64, scalar) TensorType(float64, scalar)\n"
     ]
    }
   ],
   "source": [
    "# Display x and y types\n",
    "print(x.type, y.type)"
   ]
  },
  {
   "cell_type": "markdown",
   "metadata": {},
   "source": [
    "=> `x` and `y` are **float** (64 to be more precise) **scalars** (tensors of dimension 0). "
   ]
  },
  {
   "cell_type": "code",
   "execution_count": 15,
   "metadata": {
    "ExecuteTime": {
     "end_time": "2016-06-05T18:07:29.293460",
     "start_time": "2016-06-05T18:07:29.287295"
    },
    "collapsed": false
   },
   "outputs": [
    {
     "name": "stdout",
     "output_type": "stream",
     "text": [
      "TensorType(float64, matrix) TensorType(float64, matrix)\n"
     ]
    }
   ],
   "source": [
    "# Display A and B types\n",
    "print(A.type, B.type)"
   ]
  },
  {
   "cell_type": "markdown",
   "metadata": {},
   "source": [
    "=> A and B are **float** matrices (tensors of dimension 2)"
   ]
  },
  {
   "cell_type": "markdown",
   "metadata": {
    "ExecuteTime": {
     "end_time": "2016-06-05T14:12:03.272499",
     "start_time": "2016-06-05T14:12:03.267698"
    }
   },
   "source": [
    "## Basic computation using Theano tensors"
   ]
  },
  {
   "cell_type": "code",
   "execution_count": 11,
   "metadata": {
    "ExecuteTime": {
     "end_time": "2016-06-05T14:12:18.663868",
     "start_time": "2016-06-05T14:12:18.660989"
    },
    "collapsed": false
   },
   "outputs": [],
   "source": [
    "assert adding(2,3) == 5"
   ]
  },
  {
   "cell_type": "code",
   "execution_count": 13,
   "metadata": {
    "ExecuteTime": {
     "end_time": "2016-06-05T18:03:42.646646",
     "start_time": "2016-06-05T18:03:42.640861"
    },
    "collapsed": false
   },
   "outputs": [
    {
     "data": {
      "text/plain": [
       "'(x + y)'"
      ]
     },
     "execution_count": 13,
     "metadata": {},
     "output_type": "execute_result"
    }
   ],
   "source": [
    "#Pretty print the variable z\n",
    "pp(z)"
   ]
  },
  {
   "cell_type": "code",
   "execution_count": 20,
   "metadata": {
    "ExecuteTime": {
     "end_time": "2016-06-05T18:10:02.441261",
     "start_time": "2016-06-05T18:10:02.435781"
    },
    "collapsed": false
   },
   "outputs": [
    {
     "data": {
      "text/plain": [
       "array([[ 1.,  1.,  1.],\n",
       "       [ 0.,  0.,  0.]])"
      ]
     },
     "execution_count": 20,
     "metadata": {},
     "output_type": "execute_result"
    }
   ],
   "source": [
    "multiply(np.matrix([[1,1,1], [1,0,0]]), np.matrix([[1,1,1], [0,0,1]]))"
   ]
  },
  {
   "cell_type": "code",
   "execution_count": 4,
   "metadata": {
    "ExecuteTime": {
     "end_time": "2016-06-05T18:21:52.258332",
     "start_time": "2016-06-05T18:21:52.213665"
    },
    "collapsed": false
   },
   "outputs": [],
   "source": [
    "# Multiple operations can be performed at the same time\n",
    "a, b = T.dmatrices('a', 'b')\n",
    "diff = a - b\n",
    "abs_diff = abs(diff)\n",
    "diff_squared = diff**2\n",
    "multiple_outputs = function([a, b], [diff, abs_diff, diff_squared])"
   ]
  },
  {
   "cell_type": "code",
   "execution_count": 7,
   "metadata": {
    "ExecuteTime": {
     "end_time": "2016-06-05T18:22:27.989352",
     "start_time": "2016-06-05T18:22:27.983860"
    },
    "collapsed": false
   },
   "outputs": [
    {
     "data": {
      "text/plain": [
       "[array([[ 0.,  0.,  0.],\n",
       "        [ 1.,  0., -1.]]), array([[ 0.,  0.,  0.],\n",
       "        [ 1.,  0.,  1.]]), array([[ 0.,  0.,  0.],\n",
       "        [ 1.,  0.,  1.]])]"
      ]
     },
     "execution_count": 7,
     "metadata": {},
     "output_type": "execute_result"
    }
   ],
   "source": [
    "multiple_outputs(np.matrix([[1,1,1], [1,0,0]]), np.matrix([[1,1,1], [0,0,1]]))"
   ]
  }
 ],
 "metadata": {
  "kernelspec": {
   "display_name": "Python 3",
   "language": "python",
   "name": "python3"
  },
  "language_info": {
   "codemirror_mode": {
    "name": "ipython",
    "version": 3
   },
   "file_extension": ".py",
   "mimetype": "text/x-python",
   "name": "python",
   "nbconvert_exporter": "python",
   "pygments_lexer": "ipython3",
   "version": "3.4.3"
  },
  "toc": {
   "toc_cell": false,
   "toc_number_sections": true,
   "toc_threshold": 6,
   "toc_window_display": false
  }
 },
 "nbformat": 4,
 "nbformat_minor": 0
}
