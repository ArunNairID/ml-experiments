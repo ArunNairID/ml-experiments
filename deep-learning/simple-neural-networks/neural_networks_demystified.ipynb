{
 "cells": [
  {
   "cell_type": "markdown",
   "metadata": {},
   "source": [
    "This notebook is the implementation of the [Welch Labs](http://www.welchlabs.com/) excellent video tutorials series (links inside the notebook below).\n",
    "To read the original code from the videos' author, visit this link: https://github.com/stephencwelch/Neural-Networks-Demystified "
   ]
  },
  {
   "cell_type": "code",
   "execution_count": 1,
   "metadata": {
    "ExecuteTime": {
     "end_time": "2016-06-18T10:11:37.798266",
     "start_time": "2016-06-18T10:11:30.800079"
    },
    "collapsed": true
   },
   "outputs": [],
   "source": [
    "import numpy as np\n",
    "import pandas as pd\n",
    "import matplotlib.pylab as plt\n",
    "import seaborn as sns\n",
    "from sklearn.datasets import load_iris\n",
    "from scipy import optimize\n",
    "from IPython.display import YouTubeVideo\n",
    "%matplotlib inline"
   ]
  },
  {
   "cell_type": "markdown",
   "metadata": {},
   "source": [
    "# Tutorial videos"
   ]
  },
  {
   "cell_type": "markdown",
   "metadata": {},
   "source": [
    "## Part I: NN introduction\n"
   ]
  },
  {
   "cell_type": "code",
   "execution_count": 37,
   "metadata": {
    "ExecuteTime": {
     "end_time": "2016-06-11T21:01:22.908716",
     "start_time": "2016-06-11T21:01:22.903284"
    },
    "collapsed": false
   },
   "outputs": [
    {
     "data": {
      "text/html": [
       "\n",
       "        <iframe\n",
       "            width=\"600\"\n",
       "            height=\"400\"\n",
       "            src=\"https://www.youtube.com/embed/5MXp9UUkSmc\"\n",
       "            frameborder=\"0\"\n",
       "            allowfullscreen\n",
       "        ></iframe>\n",
       "        "
      ],
      "text/plain": [
       "<IPython.lib.display.YouTubeVideo at 0x7f557348fb00>"
      ]
     },
     "execution_count": 37,
     "metadata": {},
     "output_type": "execute_result"
    }
   ],
   "source": [
    "YouTubeVideo(\"5MXp9UUkSmc\", width=600, height=400)"
   ]
  },
  {
   "cell_type": "markdown",
   "metadata": {},
   "source": [
    "## Part II: NN definition"
   ]
  },
  {
   "cell_type": "code",
   "execution_count": 33,
   "metadata": {
    "ExecuteTime": {
     "end_time": "2016-06-11T20:40:17.228653",
     "start_time": "2016-06-11T20:40:17.224026"
    },
    "collapsed": false,
    "scrolled": true
   },
   "outputs": [
    {
     "data": {
      "text/html": [
       "\n",
       "        <iframe\n",
       "            width=\"600\"\n",
       "            height=\"400\"\n",
       "            src=\"https://www.youtube.com/embed/JLTXatV5dc0\"\n",
       "            frameborder=\"0\"\n",
       "            allowfullscreen\n",
       "        ></iframe>\n",
       "        "
      ],
      "text/plain": [
       "<IPython.lib.display.YouTubeVideo at 0x7f55734824a8>"
      ]
     },
     "execution_count": 33,
     "metadata": {},
     "output_type": "execute_result"
    }
   ],
   "source": [
    "YouTubeVideo(\"JLTXatV5dc0\", width=600, height=400)"
   ]
  },
  {
   "cell_type": "markdown",
   "metadata": {},
   "source": [
    "## Part III: Cost function and the curse of dimensionality"
   ]
  },
  {
   "cell_type": "code",
   "execution_count": 32,
   "metadata": {
    "ExecuteTime": {
     "end_time": "2016-06-11T20:40:10.874405",
     "start_time": "2016-06-11T20:40:10.870345"
    },
    "collapsed": false,
    "scrolled": false
   },
   "outputs": [
    {
     "data": {
      "text/html": [
       "\n",
       "        <iframe\n",
       "            width=\"600\"\n",
       "            height=\"400\"\n",
       "            src=\"https://www.youtube.com/embed/2igVhuRFOZM\"\n",
       "            frameborder=\"0\"\n",
       "            allowfullscreen\n",
       "        ></iframe>\n",
       "        "
      ],
      "text/plain": [
       "<IPython.lib.display.YouTubeVideo at 0x7f5573482f60>"
      ]
     },
     "execution_count": 32,
     "metadata": {},
     "output_type": "execute_result"
    }
   ],
   "source": [
    "YouTubeVideo(\"2igVhuRFOZM\", width=600, height=400)"
   ]
  },
  {
   "cell_type": "markdown",
   "metadata": {},
   "source": [
    "## Part IV: Gradient descent and the chain rule"
   ]
  },
  {
   "cell_type": "code",
   "execution_count": 36,
   "metadata": {
    "ExecuteTime": {
     "end_time": "2016-06-11T20:52:24.570817",
     "start_time": "2016-06-11T20:52:24.567936"
    },
    "collapsed": false,
    "scrolled": false
   },
   "outputs": [
    {
     "data": {
      "text/html": [
       "\n",
       "        <iframe\n",
       "            width=\"600\"\n",
       "            height=\"400\"\n",
       "            src=\"https://www.youtube.com/embed/O-Lc26lZpKU\"\n",
       "            frameborder=\"0\"\n",
       "            allowfullscreen\n",
       "        ></iframe>\n",
       "        "
      ],
      "text/plain": [
       "<IPython.lib.display.YouTubeVideo at 0x7f557348fdd8>"
      ]
     },
     "execution_count": 36,
     "metadata": {},
     "output_type": "execute_result"
    }
   ],
   "source": [
    "YouTubeVideo(\"O-Lc26lZpKU\", width=600, height=400)"
   ]
  },
  {
   "cell_type": "markdown",
   "metadata": {},
   "source": [
    "## Part V: Numerical gradient checking"
   ]
  },
  {
   "cell_type": "code",
   "execution_count": 8,
   "metadata": {
    "ExecuteTime": {
     "end_time": "2016-06-12T17:11:04.971404",
     "start_time": "2016-06-12T17:11:04.928662"
    },
    "collapsed": false,
    "scrolled": true
   },
   "outputs": [
    {
     "data": {
      "text/html": [
       "\n",
       "        <iframe\n",
       "            width=\"600\"\n",
       "            height=\"400\"\n",
       "            src=\"https://www.youtube.com/embed/3y_MGonQe1s\"\n",
       "            frameborder=\"0\"\n",
       "            allowfullscreen\n",
       "        ></iframe>\n",
       "        "
      ],
      "text/plain": [
       "<IPython.lib.display.YouTubeVideo at 0x7f3dcf8449e8>"
      ]
     },
     "execution_count": 8,
     "metadata": {},
     "output_type": "execute_result"
    }
   ],
   "source": [
    "YouTubeVideo(\"3y_MGonQe1s\", width=600, height=400)"
   ]
  },
  {
   "cell_type": "markdown",
   "metadata": {},
   "source": [
    "## Part VI: Training the NN"
   ]
  },
  {
   "cell_type": "code",
   "execution_count": 15,
   "metadata": {
    "ExecuteTime": {
     "end_time": "2016-06-12T18:33:50.488452",
     "start_time": "2016-06-12T18:33:50.484821"
    },
    "collapsed": false
   },
   "outputs": [
    {
     "data": {
      "text/html": [
       "\n",
       "        <iframe\n",
       "            width=\"600\"\n",
       "            height=\"400\"\n",
       "            src=\"https://www.youtube.com/embed/uNVKNvuaoV8\"\n",
       "            frameborder=\"0\"\n",
       "            allowfullscreen\n",
       "        ></iframe>\n",
       "        "
      ],
      "text/plain": [
       "<IPython.lib.display.YouTubeVideo at 0x7f3dcf855e48>"
      ]
     },
     "execution_count": 15,
     "metadata": {},
     "output_type": "execute_result"
    }
   ],
   "source": [
    "YouTubeVideo(\"uNVKNvuaoV8\", width=600, height=400)"
   ]
  },
  {
   "cell_type": "markdown",
   "metadata": {
    "ExecuteTime": {
     "end_time": "2016-06-11T20:26:09.209472",
     "start_time": "2016-06-11T20:26:09.205749"
    }
   },
   "source": [
    "# A representation of the sigmoid function and its derivative "
   ]
  },
  {
   "cell_type": "markdown",
   "metadata": {},
   "source": [
    "## Sigmoid "
   ]
  },
  {
   "cell_type": "code",
   "execution_count": 2,
   "metadata": {
    "ExecuteTime": {
     "end_time": "2016-06-18T10:11:47.435855",
     "start_time": "2016-06-18T10:11:47.433757"
    },
    "collapsed": true
   },
   "outputs": [],
   "source": [
    "def sigmoid(z):\n",
    "    return 1.0 / (1 + np.exp(-z))"
   ]
  },
  {
   "cell_type": "markdown",
   "metadata": {},
   "source": [
    "## Derivative sigmoid "
   ]
  },
  {
   "cell_type": "code",
   "execution_count": 15,
   "metadata": {
    "ExecuteTime": {
     "end_time": "2016-06-18T10:14:47.189347",
     "start_time": "2016-06-18T10:14:47.182788"
    },
    "collapsed": true
   },
   "outputs": [],
   "source": [
    "# The derivative of the sigmoid function\n",
    "def sigmoid_prime(z):\n",
    "    return np.exp(-z) / ((1 + np.exp(-z)) ** 2)"
   ]
  },
  {
   "cell_type": "markdown",
   "metadata": {
    "ExecuteTime": {
     "end_time": "2016-06-11T22:31:57.405541",
     "start_time": "2016-06-11T22:31:57.403506"
    }
   },
   "source": [
    "## Plots"
   ]
  },
  {
   "cell_type": "code",
   "execution_count": 16,
   "metadata": {
    "ExecuteTime": {
     "end_time": "2016-06-18T10:14:48.991884",
     "start_time": "2016-06-18T10:14:48.761342"
    },
    "collapsed": false
   },
   "outputs": [
    {
     "data": {
      "image/png": "[encoded data removed]",
      "text/plain": [
       "<matplotlib.figure.Figure at 0x7f0b1595bc88>"
      ]
     },
     "metadata": {},
     "output_type": "display_data"
    }
   ],
   "source": [
    "x = np.arange(-10, 10, 0.01)\n",
    "y = sigmoid(x)\n",
    "y_prime = sigmoid_prime(x)\n",
    "fig, ax = plt.subplots(1, 1, figsize=(12, 8))\n",
    "ax.plot(x, y)\n",
    "ax.plot(x, y_prime)\n",
    "ax.set_title('A sigmoid function and its derivative')\n",
    "ax.legend(['sigmoid', 'derivative sigmoid'], loc='best')\n",
    "sns.despine()"
   ]
  },
  {
   "cell_type": "markdown",
   "metadata": {},
   "source": [
    "# Neural network class"
   ]
  },
  {
   "cell_type": "code",
   "execution_count": 98,
   "metadata": {
    "ExecuteTime": {
     "end_time": "2016-06-18T10:40:55.204415",
     "start_time": "2016-06-18T10:40:55.139346"
    },
    "collapsed": false
   },
   "outputs": [],
   "source": [
    "class NeuralNetwork(object):\n",
    "    def __init__(self):\n",
    "        self.input_layer_size = 2\n",
    "        self.output_layer_size = 1\n",
    "        self.hidden_layer_size = 3\n",
    "        self.W_1 = np.random.rand(self.input_layer_size, self.hidden_layer_size)\n",
    "        self.W_2 = np.random.rand(self.hidden_layer_size, self.output_layer_size)\n",
    "\n",
    "        \n",
    "        \n",
    "    def forward(self, X):\n",
    "        self.z_2 = np.dot(X, self.W_1)\n",
    "        self.a_2 = sigmoid(self.z_2)\n",
    "        self.z_3 = np.dot(self.a_2, self.W_2)\n",
    "        y_hat = sigmoid(self.z_3)\n",
    "        return y_hat\n",
    " \n",
    "\n",
    "\n",
    "    def cost_function(self, X, y):\n",
    "        return 0.5 * ((self.forward(X) - y) ** 2).sum()\n",
    " \n",
    "\n",
    "    def cost_function_prime(self, X, y):\n",
    "        self.y_hat = self.forward(X)\n",
    "        error = (y- self.y_hat)\n",
    "        delta_3 = np.multiply(-1 * error, sigmoid_prime(self.z_3))\n",
    "        dJ_dW_2 = np.dot(self.a_2.T, delta_3)\n",
    "        delta_2 = np.dot(delta_3, self.W_2.T) * sigmoid_prime(self.z_2)\n",
    "        dJ_dW_1 = np.dot(X.T, delta_2)\n",
    "        return dJ_dW_1, dJ_dW_2\n",
    "    \n",
    "    def get_params(self):\n",
    "        \"\"\"\n",
    "        Get the W_1 and W_2 parameters into vector forms\n",
    "        \"\"\"\n",
    "        nn_params = np.concatenate((self.W_1.ravel(), self.W_2.ravel())) \n",
    "        return nn_params\n",
    "\n",
    "    \n",
    "    def set_params(self, params):\n",
    "        \"\"\"\n",
    "        Set the W_1 and W_2 parameters (into the correct shapes) from a vector of parameters\n",
    "        Args: \n",
    "            params(ndarry): A vector containing the W_1 and W_2 parameters concatenated\n",
    "        \"\"\"\n",
    "        W_1_vector = params[0:self.input_layer_size * self.hidden_layer_size]\n",
    "        self.W_1 = np.reshape(W_1_vector, (self.input_layer_size, self.hidden_layer_size))\n",
    "        W_2_end = self.input_layer_size * self.hidden_layer_size + self.hidden_layer_size * self.output_layer_size\n",
    "        W_2_vector = params[self.input_layer_size * self.hidden_layer_size: W_2_end]\n",
    "        self.W_2 = np.reshape(W_2_vector, (self.hidden_layer_size, self.output_layer_size))\n",
    " \n",
    "        \n",
    "    def compute_gradients(self, X, y):\n",
    "        \"\"\"\n",
    "        Compute the cost function gradients (with regards to W_1 and W_2) and return the result\n",
    "        into a vector\n",
    "        \"\"\"\n",
    "        dJ_dW_1, dJ_dW_2 = self.cost_function_prime(X, y)\n",
    "        return np.concatenate((dJ_dW_1.ravel(), dJ_dW_2.ravel()))"
   ]
  },
  {
   "cell_type": "markdown",
   "metadata": {},
   "source": [
    "# Numerical gradient computation"
   ]
  },
  {
   "cell_type": "code",
   "execution_count": 99,
   "metadata": {
    "ExecuteTime": {
     "end_time": "2016-06-18T10:41:01.350333",
     "start_time": "2016-06-18T10:41:01.335442"
    },
    "collapsed": true
   },
   "outputs": [],
   "source": [
    "def compute_numerical_gradient(N, X, y):\n",
    "    \"\"\"\n",
    "    Compute a numerical approximation to the NN gradient by introducting \n",
    "    a small perturbation (adding and substracting epsilon)\n",
    "    \"\"\"\n",
    "    initial_params = N.get_params()\n",
    "    num_gradient = np.zeros(initial_params.shape)\n",
    "    perturbation = np.zeros(initial_params.shape)\n",
    "    epsilon = 1e-4\n",
    "    for p in range(len(initial_params)):\n",
    "        perturbation[p] = epsilon\n",
    "        N.set_params(initial_params + perturbation)\n",
    "        loss_plus = N.cost_function(X, y)\n",
    "        N.set_params(initial_params - perturbation)\n",
    "        loss_minus = N.cost_function(X, y)     \n",
    "        num_gradient[p] = (loss_plus - loss_minus) / (2* epsilon)\n",
    "        perturbation[p] = 0\n",
    "    N.set_params(initial_params)\n",
    "    return num_gradient"
   ]
  },
  {
   "cell_type": "code",
   "execution_count": 107,
   "metadata": {
    "ExecuteTime": {
     "end_time": "2016-06-18T10:43:24.539256",
     "start_time": "2016-06-18T10:43:24.531034"
    },
    "collapsed": false
   },
   "outputs": [],
   "source": [
    "def test_gradient(N, X,y):\n",
    "    \"\"\"\n",
    "    Check that the gradient is correctly implemented by comparing it to a numerical approximation\n",
    "    \"\"\"\n",
    "    gradient = N.compute_gradients(X,y)\n",
    "    numerical_gradient = compute_numerical_gradient(N, X, y)\n",
    "    norm_minus = np.linalg.norm(gradient - numerical_gradient)\n",
    "    norm_plus = np.linalg.norm(gradient + numerical_gradient)\n",
    "    norm_ratio = float(norm_minus) / norm_plus\n",
    "    try:\n",
    "        np.testing.assert_almost_equal(norm_ratio, 1e-8)\n",
    "        print('The gradient is correctly implemented. Well done!')\n",
    "    except AssertionError:\n",
    "        print('There is an error in your gradient implementation. Please check the code!')"
   ]
  },
  {
   "cell_type": "markdown",
   "metadata": {},
   "source": [
    "# Gradient descent ([BFGS](https://en.wikipedia.org/wiki/Broyden%E2%80%93Fletcher%E2%80%93Goldfarb%E2%80%93Shanno_algorithm) method)"
   ]
  },
  {
   "cell_type": "code",
   "execution_count": 43,
   "metadata": {
    "ExecuteTime": {
     "end_time": "2016-06-18T10:27:16.002603",
     "start_time": "2016-06-18T10:27:15.983661"
    },
    "collapsed": false
   },
   "outputs": [],
   "source": [
    "class Trainer(object):\n",
    "    def __init__(self, N):\n",
    "        self.N = N\n",
    "    def cost_function_wrapper(self, params, X,y):\n",
    "        \"\"\"\n",
    "        A wrapper for the NN cost function that has the appropriate interface (inputs and outputs) \n",
    "        for the optimize.minimize scipy function\n",
    "        \"\"\"\n",
    "        self.N.set_params(params)\n",
    "        cost = self.N.cost_function(X,y)\n",
    "        gradient = self.N.compute_gradients(X, y)\n",
    "        return cost, gradient\n",
    "    \n",
    "    def callback(self, params):\n",
    "        self.N.set_params(params)\n",
    "        self.J.append(self.N.cost_function(self.X, self.y))\n",
    "        \n",
    "    def train(self, X, y):\n",
    "        self.X = X\n",
    "        self.y = y\n",
    "        self.J = []\n",
    "        options = {'maxiter': 200, 'disp': True}\n",
    "        params_0 = self.N.get_params()\n",
    "        _res = optimize.minimize(self.cost_function_wrapper, params_0, jac=True, \n",
    "                                 method='BFGS', args=(X,y), options=options, callback=self.callback)\n",
    "        self.N.set_params(_res.x)\n",
    "        self.optimization_results = _res"
   ]
  },
  {
   "cell_type": "markdown",
   "metadata": {},
   "source": [
    "# Putting everything together for the training step"
   ]
  },
  {
   "cell_type": "code",
   "execution_count": 74,
   "metadata": {
    "ExecuteTime": {
     "end_time": "2016-06-18T10:33:46.816815",
     "start_time": "2016-06-18T10:33:46.808084"
    },
    "collapsed": false
   },
   "outputs": [],
   "source": [
    "# Iris data\n",
    "iris_data = load_iris()\n",
    "iris_X = iris_data.data[0:3, 0:2]\n",
    "iris_y = np.array([[l] for l in iris_y], dtype=float) # Some shape tweaking so that it works with the NN"
   ]
  },
  {
   "cell_type": "code",
   "execution_count": 34,
   "metadata": {
    "ExecuteTime": {
     "end_time": "2016-06-18T10:25:18.462560",
     "start_time": "2016-06-18T10:25:18.458037"
    },
    "collapsed": false
   },
   "outputs": [],
   "source": [
    "# Video data\n",
    "# X = (hours sleeping, hours studying), y = Score on test\n",
    "X = np.array(([3,5], [5,1], [10,2]), dtype=float)\n",
    "y = np.array(([75], [82], [93]), dtype=float)\n",
    "\n",
    "# Normalize\n",
    "X = X/np.amax(X, axis=0)\n",
    "y = y/100 #Max test score is 100"
   ]
  },
  {
   "cell_type": "markdown",
   "metadata": {},
   "source": [
    "## Start with testing the gradient function implementation"
   ]
  },
  {
   "cell_type": "code",
   "execution_count": 108,
   "metadata": {
    "ExecuteTime": {
     "end_time": "2016-06-18T10:43:29.478711",
     "start_time": "2016-06-18T10:43:29.473935"
    },
    "collapsed": false
   },
   "outputs": [
    {
     "name": "stdout",
     "output_type": "stream",
     "text": [
      "The gradient is correctly implemented. Well done!\n"
     ]
    }
   ],
   "source": [
    "nn = NeuralNetwork()\n",
    "test_gradient(nn, X,y)"
   ]
  },
  {
   "cell_type": "markdown",
   "metadata": {},
   "source": [
    "## With the video provided data"
   ]
  },
  {
   "cell_type": "code",
   "execution_count": 48,
   "metadata": {
    "ExecuteTime": {
     "end_time": "2016-06-18T10:28:26.484658",
     "start_time": "2016-06-18T10:28:26.459551"
    },
    "collapsed": false,
    "scrolled": true
   },
   "outputs": [
    {
     "name": "stdout",
     "output_type": "stream",
     "text": [
      "Optimization terminated successfully.\n",
      "         Current function value: 0.000409\n",
      "         Iterations: 64\n",
      "         Function evaluations: 88\n",
      "         Gradient evaluations: 88\n",
      "CPU times: user 20.2 ms, sys: 8 µs, total: 20.2 ms\n",
      "Wall time: 19.5 ms\n"
     ]
    }
   ],
   "source": [
    "%%time\n",
    "nn = NeuralNetwork()\n",
    "t = Trainer(nn)\n",
    "t.train(X,y)"
   ]
  },
  {
   "cell_type": "markdown",
   "metadata": {},
   "source": [
    "## With the iris data set"
   ]
  },
  {
   "cell_type": "code",
   "execution_count": 73,
   "metadata": {
    "ExecuteTime": {
     "end_time": "2016-06-18T10:32:28.417436",
     "start_time": "2016-06-18T10:32:28.405709"
    },
    "collapsed": false
   },
   "outputs": [
    {
     "name": "stdout",
     "output_type": "stream",
     "text": [
      "Optimization terminated successfully.\n",
      "         Current function value: 0.000001\n",
      "         Iterations: 28\n",
      "         Function evaluations: 32\n",
      "         Gradient evaluations: 32\n",
      "CPU times: user 8.65 ms, sys: 45 µs, total: 8.69 ms\n",
      "Wall time: 8.14 ms\n"
     ]
    }
   ],
   "source": [
    "%%time\n",
    "nn = NeuralNetwork()\n",
    "t = Trainer(nn)\n",
    "t.train(iris_X,iris_y)"
   ]
  }
 ],
 "metadata": {
  "kernelspec": {
   "display_name": "Python 3",
   "language": "python",
   "name": "python3"
  },
  "language_info": {
   "codemirror_mode": {
    "name": "ipython",
    "version": 3
   },
   "file_extension": ".py",
   "mimetype": "text/x-python",
   "name": "python",
   "nbconvert_exporter": "python",
   "pygments_lexer": "ipython3",
   "version": "3.4.3"
  },
  "toc": {
   "toc_cell": false,
   "toc_number_sections": true,
   "toc_threshold": 6,
   "toc_window_display": true
  },
  "toc_position": {
   "height": "335px",
   "left": "1469.75px",
   "right": "20px",
   "top": "120px",
   "width": "365px"
  }
 },
 "nbformat": 4,
 "nbformat_minor": 0
}
